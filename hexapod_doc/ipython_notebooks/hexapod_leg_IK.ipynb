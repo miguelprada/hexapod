{
 "metadata": {
  "name": ""
 },
 "nbformat": 3,
 "nbformat_minor": 0,
 "worksheets": [
  {
   "cells": [
    {
     "cell_type": "markdown",
     "metadata": {},
     "source": [
      "# 2DOF planar RR robot IK\n",
      "\n",
      "<img src=\"files/img/rr_kin.png\">\n",
      "\n",
      "The 2DOF plannar RR robot with axes of rotation pointing in $+Z$ and with link lengths $l_1$ and $l_2$ has the following IK solution:\n",
      "\n",
      "$q_1^* = atan2(y,x) - acos( \\frac{ r^2 + l_1^2 - l_2^2 }{ 2 \\, r \\, l_1 } )$\n",
      "\n",
      "$q_2^* = \\pi - acos( \\frac{ l_1^2 + l_2^2 - r^2 }{ 2 \\, r \\, l_1 } )$\n",
      "\n",
      "and\n",
      "\n",
      "$q_1^* = atan2(y,x) + acos( \\frac{ r^2 + l_1^2 - l_2^2 }{ 2 \\, r \\, l_1 } )$\n",
      "\n",
      "$q_2^* = - \\pi + acos( \\frac{ l_1^2 + l_2^2 - r^2 }{ 2 \\, r \\, l_1 } )$"
     ]
    },
    {
     "cell_type": "code",
     "collapsed": false,
     "input": [
      "from math import pi, atan2, acos, sqrt"
     ],
     "language": "python",
     "metadata": {},
     "outputs": [],
     "prompt_number": 1
    },
    {
     "cell_type": "code",
     "collapsed": false,
     "input": [
      "def clamp( val, m, M ):\n",
      "    val = max( val, m )\n",
      "    val = min( val, M )\n",
      "    return max( min( val, M ), m )"
     ],
     "language": "python",
     "metadata": {},
     "outputs": [],
     "prompt_number": 2
    },
    {
     "cell_type": "code",
     "collapsed": false,
     "input": [
      "class TwoDofRR:\n",
      "    \n",
      "    def __init__( self, l1, l2 ):\n",
      "        \n",
      "        self.l1 = l1\n",
      "        self.l2 = l2\n",
      "        \n",
      "        self.l1_sq = pow( l1, 2 )\n",
      "        self.l2_sq = pow( l2, 2 )\n",
      "        \n",
      "        self.r_max = self.l1 + self.l2\n",
      "        self.r_min = abs( self.l1 - self.l2 )\n",
      "        \n",
      "    def posIk( self, x, y, debug = False ):\n",
      "        \n",
      "        # This implementation can have some numerical errors in the edge cases such as\n",
      "        # r = r_max\n",
      "        # r = r_min\n",
      "        # It doesn't either deal with the r = r_min = 0 singular configuration\n",
      "                \n",
      "        r_sq = pow( x, 2 ) + pow( y, 2 )\n",
      "        r = sqrt( r_sq )\n",
      "        \n",
      "        if debug:            \n",
      "            print( 'r = {0}'.format( r ) )\n",
      "            print( 'r_sq = {0}'.format( r_sq ) )\n",
      "\n",
      "        if r > self.r_max or r < self.r_min:\n",
      "            raise ValueError( 'Unreachable position' )\n",
      "            \n",
      "        q1_fix = atan2( y, x )\n",
      "        q1_acos = acos( ( r_sq + self.l1_sq - self.l2_sq ) / ( 2 * r * self.l1 ) )\n",
      "        \n",
      "        q2 = pi - acos( ( self.l1_sq + self.l2_sq - r_sq ) / ( 2 * self.l1 * self.l2) )\n",
      "        \n",
      "        sol_1 = [ q1_fix - q1_acos,  q2 ]\n",
      "        sol_2 = [ q1_fix + q1_acos, -q2 ]\n",
      "\n",
      "        sol_1 = [ clamp( q, -pi, pi ) for q in sol_1 ]\n",
      "        sol_2 = [ clamp( q, -pi, pi ) for q in sol_2 ]\n",
      "        \n",
      "        return [ sol_1, sol_2 ]\n"
     ],
     "language": "python",
     "metadata": {},
     "outputs": [],
     "prompt_number": 3
    },
    {
     "cell_type": "code",
     "collapsed": false,
     "input": [
      "rr = TwoDofRR( 1, 1 )\n",
      "rr.posIk( 1, 0 )"
     ],
     "language": "python",
     "metadata": {},
     "outputs": [
      {
       "metadata": {},
       "output_type": "pyout",
       "prompt_number": 4,
       "text": [
        "[[-1.0471975511965979, 1.5707963267948966],\n",
        " [1.0471975511965979, -1.5707963267948966]]"
       ]
      }
     ],
     "prompt_number": 4
    },
    {
     "cell_type": "markdown",
     "metadata": {},
     "source": [
      "# Full leg kinematic solution\n",
      "\n",
      "<img src=\"files/img/leg_kin.png\">\n",
      "\n",
      "__$q_1$ should acutuall be inverted in the diagram above__\n",
      "\n",
      "$p_X,p_Y,p_Z$ coordinates of tip on the $f = X,Y,Z$ frame in the leg base.\n",
      "\n",
      "The two potential solutions for the first joint can be computed directly with\n",
      "\n",
      "$q_0 = atan2( p_Y, p_X )$\n",
      "\n",
      "$q_0 = atan2( p_Y, p_X ) + \\pi$\n",
      "\n",
      "In our case, since the servo and structure limit the possible joint values, we will only keep the one solution in the $(-pi,pi]$ range.\n",
      "\n",
      "To compute the solution to the two other joints, we could use the 2DOF solution found above by transforming the calculation to a different frame.\n",
      "\n",
      "First, $g = X_g,Y_g,Z_g$ is the frame obtained by rotating $f$ around $Z$ by $q_0$.\n",
      "\n",
      "$p_{X_g} = \\sqrt{ p_X^2 + p_Y^2 }$\n",
      "\n",
      "$p_{Y_g} = 0$\n",
      "\n",
      "$p_{Z_g} = p_Z$\n",
      "\n",
      "Then $h = X_h,Y_h,Z_h$ is the frame obtained by displacing $f$ by $l_0$ in the $X_g$ axis.\n",
      "\n",
      "$p_{X_h} = p_{X_g} - l_0$\n",
      "\n",
      "$p_{Y_h} = p_{Y_g}$\n",
      "\n",
      "$p_{Z_h} = p_{Z_g}$\n",
      "\n",
      "Here, $x$ and $y$ from the solution in the previous section are equivalent to $p_{X_h}$ and $p_{Z_h}$.\n",
      "\n",
      "We only need to account with the structure of the leg, --$q_1$ rotates in the opposite direction to $q_1^*$ and the leg has offset angles $\\alpha$ and $\\gamma$ if compared to the 2DOF example-- to find the relations\n",
      "\n",
      "$q_1 = - (q_1^* + \\alpha)$\n",
      "\n",
      "$q_2 = q_2^* + \\gamma$\n",
      "\n",
      "with\n",
      "\n",
      "$\\alpha = atan2(l_{\\alpha2}, l_{\\alpha1})$\n",
      "\n",
      "$\\gamma = \\beta - \\alpha = atan2( l_{\\beta1}, l_{\\beta2} ) - \\alpha$\n",
      "\n",
      "We can take the first solution from the section above\n",
      "\n",
      "$r^2 = x^2 + y^2$\n",
      "\n",
      "$q_1^* = atan2(y,x) - acos( \\frac{ r^2 + l_1^2 - l_2^2 }{ 2 \\, r \\, l_1 } )$\n",
      "\n",
      "$q_2^* = \\pi - acos( \\frac{ l_1^2 + l_2^2 - r^2 }{ 2 \\, r \\, l_1 } )$\n",
      "\n",
      "and translate it to \n",
      "\n",
      "$r^2 = p_{X_h}^2 + p_{Z_h}^2$\n",
      "\n",
      "$q_1 = - \\left( atan2( p_{Z_h}, p_{X_h}) - acos( \\frac{ r^2 + l_1^2 - l_2^2 }{ 2 \\, r \\, l_1 } ) + atan2(l_{\\alpha2}, l_{\\alpha1}) \\right)$\n",
      "\n",
      "$q_2 = \\pi - acos( \\frac{ l_1^2 + l_2^2 - r^2 }{ 2 \\, r \\, l_1 } ) + atan2( l_{\\beta1}, l_{\\beta2} ) - atan2(l_{\\alpha2}, l_{\\alpha1})$\n",
      "\n",
      "Then continue through the $g$ frame and to the $f$ reaching\n",
      "\n",
      "$r^2 = (\\sqrt{ p_X^2 + p_Y^2 } - l_0)^2 + p_Z^2$\n",
      "\n",
      "$q_1 = - \\left( atan2( p_Z, \\sqrt{ p_X^2 + p_Y^2 } - l_0) - acos( \\frac{ r^2 + l_1^2 - l_2^2 }{ 2 \\, r \\, l_1 } ) + atan2(l_{\\alpha2}, l_{\\alpha1}) \\right)$\n",
      "\n",
      "$q_2 = \\pi - acos( \\frac{ l_1^2 + l_2^2 - r^2 }{ 2 \\, r \\, l_1 } ) + atan2( l_{\\beta1}, l_{\\beta2} ) - atan2(l_{\\alpha2}, l_{\\alpha1})$\n"
     ]
    },
    {
     "cell_type": "code",
     "collapsed": false,
     "input": [
      "class HexaLegKin:\n",
      "    \n",
      "    def __init__( self, l0, la1, la2, lb1, lb2, debug = False ):\n",
      "        \n",
      "        self.l0 = l0\n",
      "        self.l1 = sqrt( la1**2 + la2**2 )\n",
      "        self.l2 = sqrt( lb1**2 + lb2**2 )\n",
      "        \n",
      "        if debug:\n",
      "            print( 'l1 = {0}'.format(self.l1) )\n",
      "            print( 'l2 = {0}'.format(self.l2) )\n",
      "        \n",
      "        self.la1 = la1\n",
      "        self.la2 = la2\n",
      "        \n",
      "        self.alpha = atan2( la2, la1 )\n",
      "        \n",
      "        if debug:\n",
      "            print( 'alpha = {0}'.format(self.alpha) )\n",
      "\n",
      "        self.lb1 = lb1\n",
      "        self.lb2 = lb2\n",
      "        \n",
      "        self.gamma = atan2( lb1, lb2 ) - self.alpha\n",
      "        \n",
      "        if debug:\n",
      "            print( 'gamma = {0}'.format(self.gamma) )\n",
      "\n",
      "        self.two_dof = TwoDofRR( self.l1, self.l2 )\n",
      "        \n",
      "        self.debug = debug\n",
      "        \n",
      "    def posIk( self, x, y, z ):\n",
      "        \n",
      "        x_star = sqrt( x**2 + y**2 ) - self.l0\n",
      "        \n",
      "        if self.debug:\n",
      "            print( 'x_star = {0}'.format(x_star) )\n",
      "\n",
      "        two_dof_sols_star = self.two_dof.posIk( x_star, z, self.debug )\n",
      "        \n",
      "        if self.debug:\n",
      "            print( 'two_def_sols_star = {0}'.format(two_dof_sols_star) )\n",
      "        \n",
      "        two_dof_sols = []\n",
      "        for sol_star in two_dof_sols_star:\n",
      "            two_dof_sols.append( [ clamp( -( sol_star[0] + self.alpha ), -pi, pi ), clamp( sol_star[1] + self.gamma, -pi, pi ) ] )\n",
      "            \n",
      "        if self.debug:\n",
      "            print( 'two_def_sols = {0}'.format(two_dof_sols) )\n",
      "        \n",
      "        q0 = atan2( y, x )\n",
      "        q0 = q0 if ( -pi < q0 and q0 <= pi ) else clamp( q0 + pi, -pi, pi )\n",
      "        \n",
      "        return [ [q0, sol[0], sol[1]] for sol in two_dof_sols ]"
     ],
     "language": "python",
     "metadata": {},
     "outputs": [],
     "prompt_number": 5
    },
    {
     "cell_type": "code",
     "collapsed": false,
     "input": [
      "hexa = HexaLegKin( 1, 1, 0, 1, 0, True )"
     ],
     "language": "python",
     "metadata": {},
     "outputs": [
      {
       "output_type": "stream",
       "stream": "stdout",
       "text": [
        "l1 = 1.0\n",
        "l2 = 1.0\n",
        "alpha = 0.0\n",
        "gamma = 1.57079632679\n"
       ]
      }
     ],
     "prompt_number": 6
    },
    {
     "cell_type": "code",
     "collapsed": false,
     "input": [
      "hexa.posIk( 2, 0, -1 )"
     ],
     "language": "python",
     "metadata": {},
     "outputs": [
      {
       "output_type": "stream",
       "stream": "stdout",
       "text": [
        "x_star = 1.0\n",
        "r = 1.41421356237\n",
        "r_sq = 2.0\n",
        "two_def_sols_star = [[-1.5707963267948966, 1.5707963267948966], [1.1102230246251565e-16, -1.5707963267948966]]\n",
        "two_def_sols = [[1.5707963267948966, 3.141592653589793], [-1.1102230246251565e-16, 0.0]]\n"
       ]
      },
      {
       "metadata": {},
       "output_type": "pyout",
       "prompt_number": 7,
       "text": [
        "[[0.0, 1.5707963267948966, 3.141592653589793],\n",
        " [0.0, -1.1102230246251565e-16, 0.0]]"
       ]
      }
     ],
     "prompt_number": 7
    },
    {
     "cell_type": "markdown",
     "metadata": {},
     "source": [
      "__SO FAR SO GOOD!!__"
     ]
    }
   ],
   "metadata": {}
  }
 ]
}