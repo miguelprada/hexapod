{
 "metadata": {
  "name": ""
 },
 "nbformat": 3,
 "nbformat_minor": 0,
 "worksheets": [
  {
   "cells": [
    {
     "cell_type": "markdown",
     "metadata": {},
     "source": [
      "# 2DOF planar RR robot IK\n",
      "\n",
      "The 2DOF plannar RR robot with axes of rotation pointing in $+Z$ and with link lengths $l_1$ and $l_2$ has the following IK solution:\n",
      "\n",
      "$q_1 = atan2(y,x) \\pm acos( \\frac{ r^2 + l_1^2 - l_2^2 }{ 2 \\, r \\, l_1 } )$\n",
      "\n",
      "$q_2 = \\pi \\pm acos( \\frac{ l_1^2 + l_2^2 - r^2 }{ 2 \\, r \\, l_1 } )$\n",
      "\n",
      "Let's test I didn't do something wrong...\n",
      "\n",
      "__It is wrong, actually. There are only two solutions. See correct version in `hexapod_doc/articles/leg_kin.md`__"
     ]
    },
    {
     "cell_type": "code",
     "collapsed": false,
     "input": [
      "from math import pi, atan2, acos, sqrt"
     ],
     "language": "python",
     "metadata": {},
     "outputs": [],
     "prompt_number": 1
    },
    {
     "cell_type": "code",
     "collapsed": false,
     "input": [
      "class TwoDofRR:\n",
      "    \n",
      "    def __init__( self, l1, l2 ):\n",
      "        \n",
      "        self.l1 = l1\n",
      "        self.l2 = l2\n",
      "        \n",
      "        self.l1_sq = pow( l1, 2 )\n",
      "        self.l2_sq = pow( l2, 2 )\n",
      "        \n",
      "        self.r_max = self.l1 + self.l2\n",
      "        self.r_min = abs( self.l1 - self.l2 )\n",
      "        \n",
      "    def posIk( self, x, y, debug = False ):\n",
      "        \n",
      "        # This implementation can have some numerical errors in the edge cases such as\n",
      "        # r = r_max\n",
      "        # r = r_min\n",
      "        # It doesn't either deal with the r = r_min = 0 singular configuration\n",
      "                \n",
      "        r_sq = pow( x, 2 ) + pow( y, 2 )\n",
      "        r = sqrt( r_sq )\n",
      "        \n",
      "        if debug:            \n",
      "            print( 'r = {0}'.format( r ) )\n",
      "            print( 'r_sq = {0}'.format( r_sq ) )\n",
      "\n",
      "        if r > self.r_max or r < self.r_min:\n",
      "            raise ValueError( 'Unreachable position' )\n",
      "            \n",
      "        q1_fix = atan2( y, x )\n",
      "        q1_plusminus = acos( ( r_sq + self.l1_sq - self.l2_sq ) / ( 2 * r * self.l1 ) )\n",
      "        \n",
      "        q2_fix = pi\n",
      "        q2_plusminus = acos( ( self.l1_sq + self.l2_sq - r_sq ) / ( 2 * self.l1 * self.l2) )\n",
      "        \n",
      "        q1_plus = q1_fix + q1_plusminus\n",
      "        q1_plus = q1_plus if q1_plus < pi else q1_plus - 2*pi\n",
      "        \n",
      "        q1_minus = q1_fix - q1_plusminus\n",
      "        q1_minus = q1_minus if q1_minus > -pi else q1_minus + 2*pi\n",
      "        \n",
      "        q2_plus = q2_fix + q2_plusminus\n",
      "        q2_plus = q2_plus if q2_plus < pi else q2_plus - 2*pi\n",
      "\n",
      "        q2_minus = q2_fix - q2_plusminus\n",
      "        q2_minus = q2_minus if q2_minus > -pi else q2_minus + 2*pi\n",
      "        \n",
      "        solutions = []\n",
      "        \n",
      "        solutions.append( ( q1_plus, q2_plus ) )\n",
      "        solutions.append( ( q1_plus, q2_minus ) )\n",
      "        solutions.append( ( q1_minus, q2_plus ) )\n",
      "        solutions.append( ( q1_minus, q2_minus ) )\n",
      "                \n",
      "        return solutions\n"
     ],
     "language": "python",
     "metadata": {},
     "outputs": [],
     "prompt_number": 2
    },
    {
     "cell_type": "code",
     "collapsed": false,
     "input": [],
     "language": "python",
     "metadata": {},
     "outputs": [],
     "prompt_number": 2
    }
   ],
   "metadata": {}
  }
 ]
}